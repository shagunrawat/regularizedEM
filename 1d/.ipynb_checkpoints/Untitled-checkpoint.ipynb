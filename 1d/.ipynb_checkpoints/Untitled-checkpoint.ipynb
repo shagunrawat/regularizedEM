{
 "cells": [
  {
   "cell_type": "code",
   "execution_count": 2,
   "metadata": {
    "collapsed": false
   },
   "outputs": [
    {
     "ename": "ModuleNotFoundError",
     "evalue": "No module named 'bridgeEM'",
     "output_type": "error",
     "traceback": [
      "\u001b[0;31m---------------------------------------------------------------------------\u001b[0m",
      "\u001b[0;31mModuleNotFoundError\u001b[0m                       Traceback (most recent call last)",
      "\u001b[0;32m<ipython-input-2-11d452dc594c>\u001b[0m in \u001b[0;36m<module>\u001b[0;34m()\u001b[0m\n\u001b[1;32m      1\u001b[0m \u001b[0;32mimport\u001b[0m \u001b[0mnumpy\u001b[0m \u001b[0;32mas\u001b[0m \u001b[0mnp\u001b[0m\u001b[0;34m\u001b[0m\u001b[0m\n\u001b[0;32m----> 2\u001b[0;31m \u001b[0;32mimport\u001b[0m \u001b[0mbridgeEM\u001b[0m\u001b[0;34m\u001b[0m\u001b[0m\n\u001b[0m",
      "\u001b[0;31mModuleNotFoundError\u001b[0m: No module named 'bridgeEM'"
     ]
    }
   ],
   "source": [
    "import numpy as np\n",
    "import bridgeEM"
   ]
  },
  {
   "cell_type": "code",
   "execution_count": null,
   "metadata": {
    "collapsed": true
   },
   "outputs": [],
   "source": [
    "def index_mapping():\n",
    "    index = 0\n",
    "    index_map = {}\n",
    "\n",
    "    for d in range(0, 4):\n",
    "        for j in range(0, d + 1):\n",
    "            for i in range(0, d + 1):\n",
    "                if (i + j == d):\n",
    "                    index_set = (i, j)\n",
    "                    index_map[index_set] = index\n",
    "                    index += 1\n",
    "\n",
    "    return index_map"
   ]
  },
  {
   "cell_type": "code",
   "execution_count": null,
   "metadata": {
    "collapsed": true
   },
   "outputs": [],
   "source": [
    "index = index_mapping()\n",
    "x = np.array([[1., 1.], [2., 2.], [1., 2.]])"
   ]
  },
  {
   "cell_type": "code",
   "execution_count": null,
   "metadata": {
    "collapsed": false
   },
   "outputs": [],
   "source": [
    "print(index)"
   ]
  },
  {
   "cell_type": "code",
   "execution_count": null,
   "metadata": {
    "collapsed": false
   },
   "outputs": [],
   "source": [
    "theta = np.full((x.shape[0], 10), 1.)\n",
    "for ind in index:\n",
    "    for i in range(2):\n",
    "        theta[:, index[ind]] *= nb.H(ind[i], x[:, i])"
   ]
  },
  {
   "cell_type": "code",
   "execution_count": null,
   "metadata": {
    "collapsed": false
   },
   "outputs": [],
   "source": [
    "print(theta)"
   ]
  },
  {
   "cell_type": "code",
   "execution_count": null,
   "metadata": {
    "collapsed": true
   },
   "outputs": [],
   "source": [
    "def h2o_transformation_matrix():\n",
    "    transformation = np.zeros((prm.dof, prm.dof))\n",
    "    index_map = index_mapping()\n",
    "    mat = h2o_simple_transformation()\n",
    "\n",
    "    for index in index_map:\n",
    "        for d in range(prm.dim):\n",
    "            curr_index = index_map[index]\n",
    "            transformation[curr_index, curr_index] = mat[i, i]\n",
    "            if (i >= 2):\n",
    "                new_index_set = (i - 2)\n",
    "                new_index = index_map[new_index_set]\n",
    "                transformation[new_index, index] = mat[i - 2, i]\n",
    "\n",
    "    return transformation"
   ]
  },
  {
   "cell_type": "code",
   "execution_count": null,
   "metadata": {
    "collapsed": false
   },
   "outputs": [],
   "source": [
    "y = np.array([1., 2., 3., 4.])\n",
    "y[(y >= 2.)] = -1.\n",
    "print(y)"
   ]
  },
  {
   "cell_type": "code",
   "execution_count": null,
   "metadata": {
    "collapsed": true
   },
   "outputs": [],
   "source": [
    "print(x)"
   ]
  }
 ],
 "metadata": {
  "kernelspec": {
   "display_name": "Python 3",
   "language": "python",
   "name": "python3"
  },
  "language_info": {
   "codemirror_mode": {
    "name": "ipython",
    "version": 3
   },
   "file_extension": ".py",
   "mimetype": "text/x-python",
   "name": "python",
   "nbconvert_exporter": "python",
   "pygments_lexer": "ipython3",
   "version": "3.6.0"
  }
 },
 "nbformat": 4,
 "nbformat_minor": 2
}
