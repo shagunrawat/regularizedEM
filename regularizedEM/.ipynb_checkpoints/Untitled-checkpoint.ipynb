{
 "cells": [
  {
   "cell_type": "code",
   "execution_count": 4,
   "metadata": {
    "collapsed": false
   },
   "outputs": [],
   "source": [
    "import numpy as np\n",
    "import parameters as prm"
   ]
  },
  {
   "cell_type": "code",
   "execution_count": 5,
   "metadata": {
    "collapsed": true
   },
   "outputs": [],
   "source": [
    "def index_mapping():\n",
    "    index = 0\n",
    "    index_map = {}\n",
    "\n",
    "    for d in range(0, prm.num_hermite_terms):\n",
    "        for j in range(0, d + 1):\n",
    "            for i in range(0, d + 1):\n",
    "                if (i + j == d):\n",
    "                    index_set = (i, j)\n",
    "                    index_map[index_set] = index\n",
    "                    index += 1\n",
    "\n",
    "    return index_map"
   ]
  },
  {
   "cell_type": "code",
   "execution_count": null,
   "metadata": {
    "collapsed": true
   },
   "outputs": [],
   "source": []
  }
 ],
 "metadata": {
  "kernelspec": {
   "display_name": "Python 3",
   "language": "python",
   "name": "python3"
  },
  "language_info": {
   "codemirror_mode": {
    "name": "ipython",
    "version": 3
   },
   "file_extension": ".py",
   "mimetype": "text/x-python",
   "name": "python",
   "nbconvert_exporter": "python",
   "pygments_lexer": "ipython3",
   "version": "3.6.0"
  }
 },
 "nbformat": 4,
 "nbformat_minor": 2
}
