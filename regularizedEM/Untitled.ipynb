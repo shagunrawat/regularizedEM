{
 "cells": [
  {
   "cell_type": "code",
   "execution_count": 9,
   "metadata": {
    "collapsed": false
   },
   "outputs": [],
   "source": [
    "import numpy as np\n",
    "import parameters as prm\n",
    "import newbridge as nb"
   ]
  },
  {
   "cell_type": "code",
   "execution_count": 6,
   "metadata": {
    "collapsed": true
   },
   "outputs": [],
   "source": [
    "def index_mapping():\n",
    "    index = 0\n",
    "    index_map = {}\n",
    "\n",
    "    for d in range(0, 4):\n",
    "        for j in range(0, d + 1):\n",
    "            for i in range(0, d + 1):\n",
    "                if (i + j == d):\n",
    "                    index_set = (i, j)\n",
    "                    index_map[index_set] = index\n",
    "                    index += 1\n",
    "\n",
    "    return index_map"
   ]
  },
  {
   "cell_type": "code",
   "execution_count": 12,
   "metadata": {
    "collapsed": true
   },
   "outputs": [],
   "source": [
    "index = index_mapping()\n",
    "x = np.array([[1., 1.], [2., 2.], [1., 2.]])"
   ]
  },
  {
   "cell_type": "code",
   "execution_count": 13,
   "metadata": {
    "collapsed": false
   },
   "outputs": [
    {
     "name": "stdout",
     "output_type": "stream",
     "text": [
      "{(0, 0): 0, (1, 0): 1, (0, 1): 2, (2, 0): 3, (1, 1): 4, (0, 2): 5, (3, 0): 6, (2, 1): 7, (1, 2): 8, (0, 3): 9}\n"
     ]
    }
   ],
   "source": [
    "print(index)"
   ]
  },
  {
   "cell_type": "code",
   "execution_count": 17,
   "metadata": {
    "collapsed": false
   },
   "outputs": [],
   "source": [
    "theta = np.full((x.shape[0], 10), 1.)\n",
    "for ind in index:\n",
    "    for i in range(2):\n",
    "        theta[:, index[ind]] *= nb.H(ind[i], x[:, i])"
   ]
  },
  {
   "cell_type": "code",
   "execution_count": 18,
   "metadata": {
    "collapsed": false
   },
   "outputs": [
    {
     "name": "stdout",
     "output_type": "stream",
     "text": [
      "[[ 0.39894228  0.39894228  0.39894228  0.          0.39894228  0.\n",
      "  -0.32573501  0.          0.         -0.32573501]\n",
      " [ 0.39894228  0.79788456  0.79788456  0.84628438  1.59576912  0.84628438\n",
      "   0.32573501  1.69256875  1.69256875  0.32573501]\n",
      " [ 0.39894228  0.39894228  0.79788456  0.          0.79788456  0.84628438\n",
      "  -0.32573501  0.          0.84628438  0.32573501]]\n"
     ]
    }
   ],
   "source": [
    "print(theta)"
   ]
  },
  {
   "cell_type": "code",
   "execution_count": null,
   "metadata": {
    "collapsed": true
   },
   "outputs": [],
   "source": [
    "def h2o_transformation_matrix():\n",
    "    transformation = np.zeros((prm.dof, prm.dof))\n",
    "    index_map = index_mapping()\n",
    "    mat = h2o_simple_transformation()\n",
    "\n",
    "    for index in index_map:\n",
    "        for d in range(prm.dim):\n",
    "            curr_index = index_map[index]\n",
    "            transformation[curr_index, curr_index] = mat[i, i]\n",
    "            if (i >= 2):\n",
    "                new_index_set = (i - 2)\n",
    "                new_index = index_map[new_index_set]\n",
    "                transformation[new_index, index] = mat[i - 2, i]\n",
    "\n",
    "    return transformation"
   ]
  },
  {
   "cell_type": "code",
   "execution_count": 28,
   "metadata": {
    "collapsed": false
   },
   "outputs": [
    {
     "name": "stdout",
     "output_type": "stream",
     "text": [
      "[ 1. -1. -1. -1.]\n"
     ]
    }
   ],
   "source": [
    "y = np.array([1., 2., 3., 4.])\n",
    "y[(y >= 2.)] = -1.\n",
    "print(y)"
   ]
  },
  {
   "cell_type": "code",
   "execution_count": null,
   "metadata": {
    "collapsed": true
   },
   "outputs": [],
   "source": []
  }
 ],
 "metadata": {
  "kernelspec": {
   "display_name": "Python 3",
   "language": "python",
   "name": "python3"
  },
  "language_info": {
   "codemirror_mode": {
    "name": "ipython",
    "version": 3
   },
   "file_extension": ".py",
   "mimetype": "text/x-python",
   "name": "python",
   "nbconvert_exporter": "python",
   "pygments_lexer": "ipython3",
   "version": "3.6.0"
  }
 },
 "nbformat": 4,
 "nbformat_minor": 2
}
